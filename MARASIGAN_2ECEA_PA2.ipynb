{
 "cells": [
  {
   "cell_type": "markdown",
   "id": "47751d45-4ef9-417d-a7d8-97032409796c",
   "metadata": {},
   "source": [
    "# PROGRAMMING ASSIGNMENT 2 | MARASIGAN, D. 2ECE-A"
   ]
  },
  {
   "cell_type": "markdown",
   "id": "0ddcf025-1419-4023-859a-18d376c75bc6",
   "metadata": {},
   "source": [
    "## NORMALIZATION PROBLEM"
   ]
  },
  {
   "cell_type": "code",
   "execution_count": 24,
   "id": "d806153c-586a-405f-888a-6e1d1db6c802",
   "metadata": {},
   "outputs": [],
   "source": [
    "import numpy as np\n",
    "X = np.random.random((5,5))\n",
    "x = np.mean(X)\n",
    "o = np.std(X)\n",
    "\n",
    "Z = (X-x)/o\n",
    "Z\n",
    "\n",
    "np.save('X_normalized.npy', Z)"
   ]
  },
  {
   "cell_type": "code",
   "execution_count": 25,
   "id": "88072be6-5929-4f2d-a750-930e40b98fed",
   "metadata": {},
   "outputs": [
    {
     "data": {
      "text/plain": [
       "array([[-1.13164788,  0.61666253, -0.28594654, -1.26120513,  0.62866597],\n",
       "       [-1.53869986,  0.78031333,  0.90127541,  0.52296651,  0.92311625],\n",
       "       [ 1.11060528,  1.1848526 , -1.51571972, -1.52653692,  0.66739051],\n",
       "       [ 0.35214275, -1.57240149,  0.08287011,  0.82416413,  1.13110771],\n",
       "       [-1.21478453,  0.36767068,  1.16290073, -1.04627106, -0.16349137]])"
      ]
     },
     "execution_count": 25,
     "metadata": {},
     "output_type": "execute_result"
    }
   ],
   "source": [
    "Norm = np.load('X_normalized.npy')\n",
    "Norm"
   ]
  },
  {
   "cell_type": "markdown",
   "id": "8354b602-0ec5-487d-b5e1-a1db85a10f0d",
   "metadata": {},
   "source": [
    "## DIVISIBLE BY 3 PROBLEM"
   ]
  },
  {
   "cell_type": "code",
   "execution_count": 46,
   "id": "5e102e20-825e-41c7-bed0-d44c82bb0aaf",
   "metadata": {},
   "outputs": [],
   "source": [
    "import numpy as np\n",
    "A = np.arange(1,101)**2\n",
    "Ten = A.reshape(10,10)\n",
    "\n",
    "DivBy3 = A[A%3 == 0]\n",
    "\n",
    "np.save('div_by_3.npy', DivBy3)"
   ]
  },
  {
   "cell_type": "code",
   "execution_count": 47,
   "id": "5ad64cbf-6839-4145-94ca-5322215de346",
   "metadata": {},
   "outputs": [
    {
     "data": {
      "text/plain": [
       "array([   9,   36,   81,  144,  225,  324,  441,  576,  729,  900, 1089,\n",
       "       1296, 1521, 1764, 2025, 2304, 2601, 2916, 3249, 3600, 3969, 4356,\n",
       "       4761, 5184, 5625, 6084, 6561, 7056, 7569, 8100, 8649, 9216, 9801])"
      ]
     },
     "execution_count": 47,
     "metadata": {},
     "output_type": "execute_result"
    }
   ],
   "source": [
    "Div3 = np.load('div_by_3.npy')\n",
    "Div3"
   ]
  },
  {
   "cell_type": "code",
   "execution_count": null,
   "id": "4f341e86-0955-4698-8ddb-08537a4322e5",
   "metadata": {},
   "outputs": [],
   "source": []
  }
 ],
 "metadata": {
  "kernelspec": {
   "display_name": "Python 3 (ipykernel)",
   "language": "python",
   "name": "python3"
  },
  "language_info": {
   "codemirror_mode": {
    "name": "ipython",
    "version": 3
   },
   "file_extension": ".py",
   "mimetype": "text/x-python",
   "name": "python",
   "nbconvert_exporter": "python",
   "pygments_lexer": "ipython3",
   "version": "3.13.5"
  }
 },
 "nbformat": 4,
 "nbformat_minor": 5
}
